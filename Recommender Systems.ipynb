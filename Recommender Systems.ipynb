{
 "cells": [
  {
   "cell_type": "markdown",
   "metadata": {},
   "source": [
    "### Recommender Systems\n",
    "Recommender predicts ratings or preferences of items and suggests them accordingly to the users. There are two types of recommender systems, namely the \"Content based\" and \"Collaborative filtering\" recommender systems.\n",
    "- Content Based: makes suggestions based on explicit ratings (i.e. likes/dislikes/views) made by the user in the past.\n",
    "<br/><br/>\n",
    "- Collaborative Filtering: makes suggestions based on preference records of the whole user base. There are two types of collaborative filtering, \"item-based\" and \"user-based\".\n",
    "<br/><br/>\n",
    "    - Item-Based (IB-CF): for a given item that is not rated by a particular user, its rating is made based on the preferences of the similar users.\n",
    "        - Slope One: easy to implement and maintain.\n",
    "<br/><br/>\n",
    "    - User-Based (UB-CF): rating of an item is made based on similar items and the ratings made by similar users are combined into a predicted rating. Memory based, as it predicts rating of an item based on similar users.\n",
    "        - Pros: Easy to implement / Context independent / more accurate than content based systems\n",
    "        - Cons: <strong>Sparsity</strong> is low (% of people that rate items) / <strong>Scalability</strong> (more K-neighbors, better classification, but this means higher costs) / <strong>cold-start</strong> (new users will have too little info to be compared with other users) / <strong>new item</strong> (similar to cold-start but in terms of items)\n",
    "<br/><br/>\n",
    "- Matrix factorization methods are used, although recently there are also deep learning based methods."
   ]
  }
 ],
 "metadata": {
  "kernelspec": {
   "display_name": "Python 3",
   "language": "python",
   "name": "python3"
  },
  "language_info": {
   "codemirror_mode": {
    "name": "ipython",
    "version": 3
   },
   "file_extension": ".py",
   "mimetype": "text/x-python",
   "name": "python",
   "nbconvert_exporter": "python",
   "pygments_lexer": "ipython3",
   "version": "3.7.4"
  }
 },
 "nbformat": 4,
 "nbformat_minor": 2
}
