{
 "cells": [
  {
   "cell_type": "markdown",
   "metadata": {},
   "source": [
    "# Project Workflow"
   ]
  },
  {
   "cell_type": "markdown",
   "metadata": {},
   "source": [
    "#### Specify a business objective\n",
    "#### Define the problem\n",
    "- What is the gap between the ideal world and the real world that ML needs to fill?\n",
    "- Ask questions that can be addressed using data and ML models\n",
    "\n",
    "#### Create common sense baseline\n",
    "- Set the baseline as knowing nothing about data science to solving the problem\n",
    "\n",
    "#### Review ML literatures\n",
    "- Get inspired on what algorithms are good at addressing the problem\n",
    "\n",
    "#### Set up a single number metric\n",
    "- What it means to be successful: high accuracy, lower error, or bigger AUC\n",
    "- How do you measure it? Metric should align with high-level goals\n",
    "\n",
    "#### EDA\n",
    "- Data type / Distribution / Variable correlation / Facets\n",
    "\n",
    "#### Partition data\n",
    "- Validation set should be large enough to detect difference between the models we are training\n",
    "- Test set should be large enough to indicate overall performance of the final model\n",
    "- Training set, larger the merrier\n",
    "\n",
    "#### Preprocess\n",
    "- Data integration / cleaning / transformation / reduction / discretization and etc...\n",
    "\n",
    "#### Feature engineering\n",
    "- Domain knowledge can be minimal for deep learning\n",
    "\n",
    "#### Develop models\n",
    "- Choose which algorithm to use, parameters to tune, architecture and etc...\n",
    "\n",
    "#### Ensemble\n",
    "- Can boost performance, depending on the correlation of the model/features \n",
    "\n",
    "#### Deploy model\n",
    "\n",
    "#### Monitor model\n",
    "\n",
    "#### Iterate"
   ]
  }
 ],
 "metadata": {
  "kernelspec": {
   "display_name": "Python 3",
   "language": "python",
   "name": "python3"
  },
  "language_info": {
   "codemirror_mode": {
    "name": "ipython",
    "version": 3
   },
   "file_extension": ".py",
   "mimetype": "text/x-python",
   "name": "python",
   "nbconvert_exporter": "python",
   "pygments_lexer": "ipython3",
   "version": "3.7.4"
  }
 },
 "nbformat": 4,
 "nbformat_minor": 2
}
