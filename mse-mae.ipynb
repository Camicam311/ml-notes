{
 "cells": [
  {
   "cell_type": "markdown",
   "metadata": {},
   "source": [
    "# MSE/MAE"
   ]
  },
  {
   "cell_type": "markdown",
   "metadata": {},
   "source": [
    "<strong>Similarity</strong>: both measure average model prediction error.\n",
    "\n",
    "<strong>MSE</strong>: Measures average squared error of our predictions. It gives higher weights to large errors.\n",
    "$$MSE = \\frac{1}{N}\\sum_{i=1}^{N}(y_i-\\hat{y}_i)^2$$\n",
    "\n",
    "<strong>MAE</strong>: assign equal weights\n",
    "$$MAE = \\frac{1}{N}\\sum_{i=1}^{N}|y_i-\\hat{y}_i|$$\n",
    "\n",
    "MSE is continuously differentiable while MAE is not."
   ]
  }
 ],
 "metadata": {
  "kernelspec": {
   "display_name": "Python 3",
   "language": "python",
   "name": "python3"
  },
  "language_info": {
   "codemirror_mode": {
    "name": "ipython",
    "version": 3
   },
   "file_extension": ".py",
   "mimetype": "text/x-python",
   "name": "python",
   "nbconvert_exporter": "python",
   "pygments_lexer": "ipython3",
   "version": "3.7.4"
  }
 },
 "nbformat": 4,
 "nbformat_minor": 2
}
