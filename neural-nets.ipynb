{
 "cells": [
  {
   "cell_type": "markdown",
   "metadata": {},
   "source": [
    "## MLP (Multilayer Perceptron)\n",
    "A feed-forward neural network of multiple layers. There are multiple neurons in each layer, each neuron in a layer is a linear/non-linear combination of the neurons in the previous layer. In order to train the network, we use <strong>backpropagation</strong> to minimize the errors of the residuals. In theory, MLP can approximate any functions.\n",
    "\n",
    "MLP are sometimes colloquially referred as <strong>vanilla</strong> neural networks, especially when they have a single hidden layer.\n",
    "\n",
    "It consists of three layers, an input layer, hidden layer and an output layer.\n",
    "\n",
    "Backpropagation is the algorithm for determining how a single training example would nudge the different weights and biases, not simply increasing them or decreasing them, but in terms of what relative proportions to those changes cause the most rapid decrease to the cost.\n",
    "   - Backpropagation is one instance of a more general technique called <strong>reverse mode differentiation</strong> to compute derivatives of functions represented in some kind of directed graph form.\n",
    "\n",
    "## CNN (Convolutional Neural Network)\n",
    "Class of deep neural networks most commonly applied to analyzing visual imagery. It is the <strong>regularized</strong> version of the MLP. Because MLP's are fully connected networks, it is prone to <strong>overfitting</strong> and to address this issue, we usually adjust the weights. Interestingly, CNN's take different approach in regularization: They take advantage of hierchichal pattern of data and assemble more complex patterns using smaller and simpler patterns.\n",
    "\n",
    "Inspired by the connectivity patterns from the animal visual cortex. Compared to other algorithms, CNN requires little preprocessing as it learns the filters that are usually hand-engineered.\n",
    "\n",
    "Employs the mathematical operation called the convolution (specialized kind of linear operation). Neural Network is considered a CNN if at least one of the layers use convolution rather than the general matrix multiplication.\n",
    "\n",
    "Sources:\n",
    "- https://www.youtube.com/watch?v=tIeHLnjs5U8&list=PLZHQObOWTQDNU6R1_67000Dx_ZCJB-3pi&index=4\n",
    "- https://github.com/ShuaiW/data-science-question-answer#mlp\n",
    "- https://en.wikipedia.org/wiki/Multilayer_perceptron\n",
    "- https://en.wikipedia.org/wiki/Convolutional_neural_network"
   ]
  },
  {
   "cell_type": "code",
   "execution_count": null,
   "metadata": {},
   "outputs": [],
   "source": []
  }
 ],
 "metadata": {
  "kernelspec": {
   "display_name": "Python 3",
   "language": "python",
   "name": "python3"
  },
  "language_info": {
   "codemirror_mode": {
    "name": "ipython",
    "version": 3
   },
   "file_extension": ".py",
   "mimetype": "text/x-python",
   "name": "python",
   "nbconvert_exporter": "python",
   "pygments_lexer": "ipython3",
   "version": "3.7.4"
  }
 },
 "nbformat": 4,
 "nbformat_minor": 2
}
