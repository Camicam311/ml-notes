{
 "cells": [
  {
   "cell_type": "markdown",
   "metadata": {},
   "source": [
    "Checklist:\n",
    "- Standardize or normalize columns.\n",
    "- encode categorical columns into numerical categories.\n",
    "- Combine all the numerical columns that are similar, i.e. `1stflrbathroomsize` and `2ndflrbathroomszie` and etc.\n",
    "- Get rid of all the features where majority of the rows are dominated by one kind of category, i.e. 99% of entries are blue out of three different colors."
   ]
  }
 ],
 "metadata": {
  "kernelspec": {
   "display_name": "Python 3",
   "language": "python",
   "name": "python3"
  },
  "language_info": {
   "codemirror_mode": {
    "name": "ipython",
    "version": 3
   },
   "file_extension": ".py",
   "mimetype": "text/x-python",
   "name": "python",
   "nbconvert_exporter": "python",
   "pygments_lexer": "ipython3",
   "version": "3.7.4"
  }
 },
 "nbformat": 4,
 "nbformat_minor": 2
}
