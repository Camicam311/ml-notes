{
 "cells": [
  {
   "cell_type": "markdown",
   "metadata": {},
   "source": [
    "## Tensorflow vs. keras\n",
    "Tensorflow is an open source deep learning library developed by Google. It has a wide variety of components, including Tensorboard, Deployment and Production APIs and support for variuos programming languages.\n",
    "\n",
    "Keras is a high-level library that can use variety of deep learning libraries underneath including Tensorflow, CNTK, or Theano.\n",
    "\n",
    "Tensorflow 1.x had a complex python class system for building models and due to the huge popularity of Keras, when Tensorflow 2.0 was released, TF adpoted Keras as the official API.\n",
    "\n",
    "Keras API is easy to use and builds models by simply adding layers on top of each other through simple calls."
   ]
  }
 ],
 "metadata": {
  "kernelspec": {
   "display_name": "Python 3",
   "language": "python",
   "name": "python3"
  },
  "language_info": {
   "codemirror_mode": {
    "name": "ipython",
    "version": 3
   },
   "file_extension": ".py",
   "mimetype": "text/x-python",
   "name": "python",
   "nbconvert_exporter": "python",
   "pygments_lexer": "ipython3",
   "version": "3.7.4"
  }
 },
 "nbformat": 4,
 "nbformat_minor": 2
}
