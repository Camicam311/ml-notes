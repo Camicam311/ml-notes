{
 "cells": [
  {
   "cell_type": "markdown",
   "metadata": {},
   "source": [
    "- Nominal data:\n",
    "    - column with nominal data has values that cannot be order in any meaningful way.\n",
    "    - is often One-Hot encoded, but there are many options that might perform better for ML.\n",
    "<br/><br/>\n",
    "- Ordinal data:\n",
    "    - can be ranked ordered.\n",
    "    - can be encoded in one of three ways:\n",
    "        1. It can be considered to be close to an interval data. Take for example, \"on a scale from 0 to 10, 0 being unlikely to be preferred and 10 being always preferred, how would you rate this product?\". Here the difference between 1,2 and 6,7 can be reasonably assumed similar.\n",
    "        2. It can be treated as nominal data, where each category has no numeric relationship to another. OneHot encoding appropriate for nominal data makes sense here.\n",
    "        3. Magnitude of the difference between the numbers can be ignored. You can train your model with different encodings and see which encoding works best.\n",
    "<br/><br/>\n",
    "- Seven types of data types that make our models work better:\n",
    "    1. Useless: useless for ML algorithms (discrete)\n",
    "    2. Nominal: groups without order (discrete)\n",
    "    3. Binary: either/or (discrete)\n",
    "    4. Ordinal: groups with order (discrete)\n",
    "    5. Count: number of occurrences (discrete)\n",
    "    6. Time: cyclical numbers with temporal component (continuous)\n",
    "    7. Interval: positive and/or negative numbers w/o a temporal component (continuous)\n",
    "<br/><br/>\n",
    "- For nominal columns, try OneHot, Hashing, LeaveOneOut and Target encoding. Avoid OneHot for high cardinality (high number of unique values) and tree based algorithms.\n",
    "<br/><br/>\n",
    "- For ordinal columns, try Ordinal (Integer), Binary, OneHot, LeaveOneOut and Target. Helmert, Sum, BackwardDiff and Polynomial are less helpful, but if you have time or theoretical reason, you might want to try them. \n",
    "<br/><br/>\n",
    "- For regression tasks, Target and LeaveOneOut probably would not work well.\n",
    "<br/><br/>\n",
    "- Classic Encoders:\n",
    "    - Ordinal: convert string values to integer values 1 through $k$ (ordinal)\n",
    "    - OneHot: one column for each value to compare vs. all other values. (nominal and ordinal)\n",
    "    - Binary: convert each integer to binary digits. Each binary digit gets one column. Some info loss but fewer dimensions (ordinal)\n",
    "    - BaseN: Ordinal, Binary or higher encoding.\n",
    "<br/><br/>\n",
    "Source:\n",
    "- https://towardsdatascience.com/smarter-ways-to-encode-categorical-data-for-machine-learning-part-1-of-3-6dca2f71b159\n",
    "- http://contrib.scikit-learn.org/categorical-encoding/index.html"
   ]
  },
  {
   "cell_type": "code",
   "execution_count": null,
   "metadata": {},
   "outputs": [],
   "source": []
  }
 ],
 "metadata": {
  "kernelspec": {
   "display_name": "Python 3",
   "language": "python",
   "name": "python3"
  },
  "language_info": {
   "codemirror_mode": {
    "name": "ipython",
    "version": 3
   },
   "file_extension": ".py",
   "mimetype": "text/x-python",
   "name": "python",
   "nbconvert_exporter": "python",
   "pygments_lexer": "ipython3",
   "version": "3.7.4"
  }
 },
 "nbformat": 4,
 "nbformat_minor": 2
}
