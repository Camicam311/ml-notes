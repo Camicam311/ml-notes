{
 "cells": [
  {
   "cell_type": "markdown",
   "metadata": {},
   "source": [
    "### XG Boost\n",
    "Gradient Boost\n",
    "\n",
    "Regularization\n",
    "\n",
    "A Unique Regression Tree\n",
    "\n",
    "Approximate Greedy Algorithm\n",
    "\n",
    "Weighted Quantile Sketch\n",
    "\n",
    "Sparsity-Aware Split Finding\n",
    "\n",
    "Parallel Learning\n",
    "\n",
    "Cache-Aware Access\n",
    "\n",
    "Blocks for Out-of-Core Computation"
   ]
  }
 ],
 "metadata": {
  "kernelspec": {
   "display_name": "Python 3",
   "language": "python",
   "name": "python3"
  },
  "language_info": {
   "codemirror_mode": {
    "name": "ipython",
    "version": 3
   },
   "file_extension": ".py",
   "mimetype": "text/x-python",
   "name": "python",
   "nbconvert_exporter": "python",
   "pygments_lexer": "ipython3",
   "version": "3.7.4"
  }
 },
 "nbformat": 4,
 "nbformat_minor": 2
}
